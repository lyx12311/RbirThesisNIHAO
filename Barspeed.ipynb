{
 "cells": [
  {
   "cell_type": "code",
   "execution_count": 1,
   "id": "31533c38",
   "metadata": {},
   "outputs": [],
   "source": [
    "import os \n",
    "sims = os.listdir('./')\n",
    "sims = [i for i in sims if 'x' in i]\n",
    "sims = [i for i in sims if '.txt' not in i]\n",
    "sims = [i for i in sims if '.pkl' not in i]\n",
    "simsnames = [i.split('_')[0][1:] for i in sims]\n"
   ]
  },
  {
   "cell_type": "code",
   "execution_count": 2,
   "id": "fafb0fb3",
   "metadata": {},
   "outputs": [
    {
     "data": {
      "text/plain": [
       "['6.96e11', '8.26e11', '7.08e11', '1.12e12', '2.79e12', '7.55e11']"
      ]
     },
     "execution_count": 2,
     "metadata": {},
     "output_type": "execute_result"
    }
   ],
   "source": [
    "simsnames"
   ]
  },
  {
   "cell_type": "code",
   "execution_count": 3,
   "id": "cc252a65",
   "metadata": {},
   "outputs": [],
   "source": [
    "from HeaderP import *\n",
    "import pynbody as pb\n",
    "import pynbody.filt as filt\n",
    "import os, pickle, glob"
   ]
  },
  {
   "cell_type": "code",
   "execution_count": 4,
   "id": "c35d2efe",
   "metadata": {},
   "outputs": [],
   "source": [
    "def readsimdata(simNo,Rcut,Rcut_thread,zcut_thread,disk=True):\n",
    "    if disk:\n",
    "        data=pd.read_pickle('./g'+simNo+'_z_0_decomp.pkl')\n",
    "    else:\n",
    "        data=pd.read_pickle('./g'+simNo+'_z_0_decomp.pkl')\n",
    "    data['R']=np.sqrt((data['x'])**2+data['y']**2)\n",
    "    \n",
    "    if Rcut:\n",
    "        data=data.loc[data['Rbir']<Rcut_thread].reset_index(drop=True)\n",
    "        data=data.loc[abs(data['zbir'])<zcut_thread].reset_index(drop=True)\n",
    "    data['dR']=data['R']-data['Rbir']\n",
    "    data['dz']=abs(data['z'])-abs(data['zbir'])\n",
    "    if disk:\n",
    "        data = data.loc[(data['decomp']==1)|(data['decomp']==4)].reset_index()\n",
    "    return data\n",
    "\n",
    "def normalize_data(data):\n",
    "    return (data-np.mean(data))/np.std(data)\n",
    "\n",
    "def train(y, X):\n",
    "    \"\"\"\n",
    "    \n",
    "    Args:\n",
    "        y (array): An Nstar array of rotation periods.\n",
    "        X (array): An Nstar x NX array of features.\n",
    "        \n",
    "    Returns:\n",
    "        weights (array): The array of weights of length NX + 1.\n",
    "        \n",
    "    \"\"\"\n",
    "    A = np.concatenate((np.ones((len(X), 1)), X), axis=1)  # Shape: Nstars x Nfeatures (incl crossterms)\n",
    "    AT = A.T\n",
    "    ATA = np.dot(AT, A)\n",
    "    \n",
    "    weights = np.linalg.solve(ATA, np.dot(AT, y))\n",
    "    return weights"
   ]
  },
  {
   "cell_type": "code",
   "execution_count": 5,
   "id": "afb84207",
   "metadata": {},
   "outputs": [],
   "source": [
    "def calcRbir_cv(data, fold=5):\n",
    "    fold = int(fold)\n",
    "\n",
    "    args = data['feh'], data['age']\n",
    "    args_name = '[Fe/H]', 'τ'\n",
    "    \n",
    "    X = list(args)\n",
    "    X_names = list(args_name)\n",
    "    \n",
    "    for a, b in combinations_with_replacement(args, 2):\n",
    "        X.append(a * b)\n",
    "\n",
    "    \n",
    "    for a, b in combinations_with_replacement(args_name, 2):\n",
    "        X_names.append(str(a + '*' + b))\n",
    "        \n",
    "    X = np.array(X).T\n",
    "\n",
    "\n",
    "    # Define the number of training and validating stars.\n",
    "    Ntest = int(1./float(fold)*np.shape(X)[0])\n",
    "    y = data['Rbir'].values\n",
    "    ypred = np.zeros(len(y))\n",
    "    \n",
    "    shuffle_inds = np.arange(len(y))\n",
    "    np.random.shuffle(shuffle_inds)\n",
    "        \n",
    "    weights = np.zeros((len(X_names)+1, fold))\n",
    "        \n",
    "    for i in range(fold):\n",
    "        if i == fold-1:\n",
    "            startind = int(-Ntest)\n",
    "            endind = int(len(shuffle_inds)-1)\n",
    "        else:\n",
    "            startind = int(i*Ntest)\n",
    "            endind = int(Ntest*(i+1))\n",
    "            \n",
    "        train_inds = np.append(shuffle_inds[:startind],shuffle_inds[endind:])\n",
    "        test_inds = shuffle_inds[startind:endind]\n",
    "        y_train, X_train = y[train_inds], X[train_inds, :]\n",
    "        y_test, X_test = y[test_inds], X[test_inds, :]\n",
    "\n",
    "        weights[:, i] = train(y_train, X_train)\n",
    "\n",
    "        A = np.concatenate((np.ones((len(X_test), 1)), X_test), axis=1)\n",
    "        y_predict = np.dot(weights[:, i].T, A.T)\n",
    "        ypred[test_inds] = y_predict\n",
    "\n",
    "    return np.append(['$θ_C$'],X_names), [np.mean(weights[i,:]) for i in range(len(X_names)+1)], [np.std(weights[i,:]) for i in range(len(X_names)+1)], y, ypred\n",
    "\n",
    "def calcRstd(data, Rbirbin=np.linspace(0,10,20)):\n",
    "    Rbirs = np.zeros(len(Rbirbin)-1)\n",
    "    Rstds = np.zeros(len(Rbirbin)-1)\n",
    "    for i in range(len(Rbirbin)-1):\n",
    "        data_loc = data.loc[(data['Rbir']>Rbirbin[i])&(data['Rbir']<Rbirbin[i+1])].reset_index(drop=True)\n",
    "        Rstds[i] = np.std(data_loc['R']-data_loc['Rbir'])\n",
    "        Rbirs[i] = (Rbirbin[i]+Rbirbin[i+1])/2\n",
    "    return Rbirs, Rstds\n",
    "\n",
    "def calcRstd_inf(infRbir, trueRbir, Rbirbin=np.linspace(0,10,20)):\n",
    "    Rbirs = np.zeros(len(Rbirbin)-1)\n",
    "    Rstds = np.zeros(len(Rbirbin)-1)\n",
    "    for i in range(len(Rbirbin)-1):\n",
    "        m = (trueRbir>Rbirbin[i])&(trueRbir<Rbirbin[i+1])\n",
    "        Rstds[i] = np.std(trueRbir[m]-infRbir[m])\n",
    "        Rbirs[i] = (Rbirbin[i]+Rbirbin[i+1])/2\n",
    "    return Rbirs, Rstds\n",
    "\n",
    "def cart2pol(x, y):\n",
    "    rho = np.sqrt(x**2 + y**2)\n",
    "    phi = np.arctan2(y, x)\n",
    "    return(rho, phi)"
   ]
  },
  {
   "cell_type": "code",
   "execution_count": 18,
   "id": "1a4805fe",
   "metadata": {},
   "outputs": [],
   "source": [
    "cols = ['iord','r','z','x','y']\n",
    "def calc_bar_angle(data, rbar=3.5, drbar=0.5):\n",
    "    rbar=3\n",
    "    drbar=0.1\n",
    "    dub=3\n",
    "    \n",
    "    data['R'], data['phi'] = cart2pol(data['x'], data['y'])\n",
    "    data_r = data.loc[abs(data['R']-rbar)<drbar].reset_index(drop=True)\n",
    "    dens = np.histogram(data_r['phi'],bins=np.linspace(-np.pi,np.pi,360));\n",
    "\n",
    "    ### FFT\n",
    "    degs = (dens[1][:-1]+dens[1][1:])/2\n",
    "    dens_p = dens[0]\n",
    "\n",
    "    \"\"\"\n",
    "    for i in range(dub):\n",
    "        degs = np.append(degs, (degs+(i+1)*np.pi))\n",
    "        dens_p = np.append(dens_p, dens_p)\n",
    "    \"\"\"\n",
    "    #plt.plot(dens[1][:-1], dens[0], 'k-')\n",
    "    #plt.plot(dens[1][:-1], np.sin(2*dens[1][:-1]-2)*100)\n",
    "\n",
    "    N = len(dens_p)\n",
    "    Ts = (max(degs)-min(degs))/N\n",
    "    yf = np.fft.fft(dens_p-np.mean(dens_p))\n",
    "\n",
    "    Y = 2./N*abs(yf[0:N//2])\n",
    "\n",
    "    barangle=-np.angle(yf[2])/2.\n",
    "\n",
    "    return barangle, 2./N*abs(yf[2])\n",
    "\n",
    "def generatepkl(simname):\n",
    "    print(simname)\n",
    "    allsnaps = glob.glob(simname+'/*.?????')\n",
    "    \n",
    "    agepickle = readsimdata(simname.split('_')[0][1:],True, 15, 5)\n",
    "    \n",
    "    allsnaps_time = [int(i.split('.')[-1]) for i in allsnaps if (('param' not in i) and ('draco' not in i) and ('dat_' not in i) and ('79e12' not in i.split('.')[-1]))]\n",
    "    snaplookup = {int(allsnaps[i].split('.')[-1]):allsnaps[i] for i in range(len(allsnaps)) if (('param' not in allsnaps[i]) and ('draco' not in allsnaps[i]) and ('dat_' not in allsnaps[i]) and ('79e12' not in allsnaps[i].split('.')[-1]))}\n",
    "\n",
    "    sortage = sorted(allsnaps_time)\n",
    "    allages_rs = np.zeros(len(sortage))\n",
    "        \n",
    "    for j in trange(len(allages_rs)):\n",
    "        if os.path.exists(snaplookup[sortage[j]]+'.pkl'):\n",
    "            this_snap = pd.read_pickle(snaplookup[sortage[j]]+'.pkl')\n",
    "            try:\n",
    "                this_snap['x']\n",
    "            except:\n",
    "                s = pb.load(snaplookup[sortage[j]])\n",
    "                h=s.halos()\n",
    "                try:\n",
    "                    pb.analysis.angmom.faceon(h[1])\n",
    "                except:\n",
    "                    print('no halo!')\n",
    "                    continue\n",
    "                s.physical_units()\n",
    "                sim = h[1]\n",
    "\n",
    "                stars = sim.s\n",
    "                if len(stars)==0:\n",
    "                    print('no stars!')\n",
    "                    continue\n",
    "\n",
    "                try:\n",
    "                    stars['iord']\n",
    "                except:\n",
    "                    print('no IDs!')\n",
    "                    continue\n",
    "                this_snap = pd.DataFrame({k:stars[k] for k in cols})\n",
    "\n",
    "                this_snap = pd.merge(this_snap, agepickle[['iord', 'age', 'feh', 'Rbir','zbir']], left_on='iord', right_on='iord', how='inner')\n",
    "                this_snap.to_pickle(snaplookup[sortage[j]]+'.pkl')\n",
    "        else:\n",
    "            s = pb.load(snaplookup[sortage[j]])\n",
    "            h=s.halos()\n",
    "            try:\n",
    "                pb.analysis.angmom.faceon(h[1])\n",
    "            except:\n",
    "                print('no halo!')\n",
    "                continue\n",
    "            s.physical_units()\n",
    "            sim = h[1]\n",
    "\n",
    "            stars = sim.s\n",
    "            if len(stars)==0:\n",
    "                print('no stars!')\n",
    "                continue\n",
    "\n",
    "            try:\n",
    "                stars['iord']\n",
    "            except:\n",
    "                print('no IDs!')\n",
    "                continue\n",
    "            this_snap = pd.DataFrame({k:stars[k] for k in cols})\n",
    "\n",
    "            this_snap = pd.merge(this_snap, agepickle[['iord', 'age', 'feh', 'Rbir','zbir']], left_on='iord', right_on='iord', how='inner')\n",
    "            this_snap.to_pickle(snaplookup[sortage[j]]+'.pkl')\n",
    "        \n",
    "\n",
    "def calc_bar_speed(simname, rbar=3.5, drbar=0.5):\n",
    "    print(simname)\n",
    "    allsnaps = glob.glob(simname+'/*.?????')\n",
    "    \n",
    "    agepickle = readsimdata(simname.split('_')[0][1:],True, 15, 5)\n",
    "    \n",
    "    allsnaps_time = [int(i.split('.')[-1]) for i in allsnaps if (('param' not in i) and ('draco' not in i) and ('dat_' not in i) and ('79e12' not in i.split('.')[-1]))]\n",
    "    snaplookup = {int(allsnaps[i].split('.')[-1]):allsnaps[i] for i in range(len(allsnaps)) if (('param' not in allsnaps[i]) and ('draco' not in allsnaps[i]) and ('dat_' not in allsnaps[i]) and ('79e12' not in allsnaps[i].split('.')[-1]))}\n",
    "\n",
    "    sortage = sorted(allsnaps_time)\n",
    "    allages_rs = np.zeros(len(sortage))\n",
    "    print(snaplookup)\n",
    "    \n",
    "    for j in trange(len(sortage)):\n",
    "        s = pb.load(snaplookup[sortage[j]])\n",
    "        h = s.properties['h']\n",
    "        ages = float(str(s.properties['time']).split(' ')[0])\n",
    "        allages_rs[j] = ages\n",
    "        \n",
    "    barspeeds = np.zeros(len(allages_rs)-1)\n",
    "    amps = np.zeros(len(allages_rs)-1)\n",
    "    \n",
    "    for j in trange(len(allages_rs)-1):\n",
    "        try:\n",
    "            this_snap = pd.read_pickle(snaplookup[sortage[j]]+'.pkl')\n",
    "            next_snap = pd.read_pickle(snaplookup[sortage[j+1]]+'.pkl')\n",
    "        except:\n",
    "            print(\"can't read in snaps!\")\n",
    "            continue\n",
    "            \n",
    "        barangle1, amp1 = calc_bar_angle(this_snap, rbar=rbar, drbar=drbar)\n",
    "        barangle2, amp2 = calc_bar_angle(next_snap, rbar=rbar, drbar=drbar)\n",
    "        \n",
    "        barspeeds[j] = (barangle2-barangle1)/(allages_rs[j+1]-allages_rs[j])\n",
    "        amps[j] = amp2\n",
    "    return (allages_rs[:-1]+allages_rs[1:])/2, barspeeds, amps\n",
    "    \n",
    "    "
   ]
  },
  {
   "cell_type": "code",
   "execution_count": 6,
   "id": "f0db0d7c",
   "metadata": {},
   "outputs": [
    {
     "name": "stdout",
     "output_type": "stream",
     "text": [
      "Reading in simulation...\n",
      "Finished reading in simulation...\n"
     ]
    }
   ],
   "source": [
    "i=-2\n",
    "simNo=simsnames[i]\n",
    "Rcut=True\n",
    "Rcut_thread=15\n",
    "zcut_thread=5\n",
    "\n",
    "print('Reading in simulation...')\n",
    "data = readsimdata(simNo,Rcut,Rcut_thread,zcut_thread,disk=False)\n",
    "print('Finished reading in simulation...')\n",
    "\n",
    "\n"
   ]
  },
  {
   "cell_type": "code",
   "execution_count": 54,
   "id": "eea91708",
   "metadata": {},
   "outputs": [],
   "source": [
    "data['R'], data['phi'] = cart2pol(data['x'], data['y'])"
   ]
  },
  {
   "cell_type": "code",
   "execution_count": 122,
   "id": "a46d48f1",
   "metadata": {},
   "outputs": [
    {
     "name": "stdout",
     "output_type": "stream",
     "text": [
      "-1.0823222317691616\n"
     ]
    },
    {
     "data": {
      "text/plain": [
       "Text(0, 0.5, 'A')"
      ]
     },
     "execution_count": 122,
     "metadata": {},
     "output_type": "execute_result"
    },
    {
     "data": {
      "image/png": "[encoded data removed]",
      "text/plain": [
       "<Figure size 720x720 with 1 Axes>"
      ]
     },
     "metadata": {
      "needs_background": "light"
     },
     "output_type": "display_data"
    },
    {
     "data": {
      "image/png": "[encoded data removed]",
      "text/plain": [
       "<Figure size 1440x576 with 1 Axes>"
      ]
     },
     "metadata": {
      "needs_background": "light"
     },
     "output_type": "display_data"
    }
   ],
   "source": [
    "rbar=3\n",
    "drbar=0.1\n",
    "dub=3\n",
    "\n",
    "data_r = data.loc[abs(data['R']-rbar)<drbar].reset_index(drop=True)\n",
    "dens = np.histogram(data_r['phi'],bins=np.linspace(-np.pi,np.pi,360));\n",
    "\n",
    "### FFT\n",
    "degs = (dens[1][:-1]+dens[1][1:])/2\n",
    "dens_p = dens[0]\n",
    "\n",
    "\"\"\"\n",
    "for i in range(dub):\n",
    "    degs = np.append(degs, (degs+(i+1)*np.pi))\n",
    "    dens_p = np.append(dens_p, dens_p)\n",
    "\"\"\"\n",
    "plt.plot(dens[1][:-1], dens[0], 'k-')\n",
    "#plt.plot(dens[1][:-1], np.sin(2*dens[1][:-1]-2)*100)\n",
    "\n",
    "N = len(dens_p)\n",
    "Ts = (max(degs)-min(degs))/N\n",
    "yf = np.fft.fft(dens_p-np.mean(dens_p))\n",
    "\n",
    "Y = 2./N*abs(yf[0:N//2])\n",
    "\n",
    "barangle=-np.angle(yf[2])/2.\n",
    "print(barangle)\n",
    "plt.figure(figsize=(20,8))\n",
    "\n",
    "frq=np.linspace(0, max(degs)/(2.*T), int(N/2))\n",
    "plt.plot(Y ,'k-o')\n",
    "plt.xlim([0,10])\n",
    "plt.xlabel('$m$')\n",
    "plt.ylabel('A')"
   ]
  },
  {
   "cell_type": "code",
   "execution_count": null,
   "id": "4d20779a",
   "metadata": {},
   "outputs": [
    {
     "name": "stdout",
     "output_type": "stream",
     "text": [
      "g8.26e11_2x4x8\n"
     ]
    },
    {
     "name": "stderr",
     "output_type": "stream",
     "text": [
      "  1%|          | 1/180 [00:00<01:19,  2.27it/s]"
     ]
    },
    {
     "name": "stdout",
     "output_type": "stream",
     "text": [
      "no halo!\n"
     ]
    },
    {
     "name": "stderr",
     "output_type": "stream",
     "text": [
      "  4%|▍         | 8/180 [00:27<07:41,  2.68s/it]"
     ]
    },
    {
     "name": "stdout",
     "output_type": "stream",
     "text": [
      "no stars!\n"
     ]
    },
    {
     "name": "stderr",
     "output_type": "stream",
     "text": [
      " 20%|██        | 36/180 [01:15<06:45,  2.82s/it]"
     ]
    },
    {
     "name": "stdout",
     "output_type": "stream",
     "text": [
      "no IDs!\n"
     ]
    },
    {
     "name": "stderr",
     "output_type": "stream",
     "text": [
      "100%|██████████| 180/180 [02:13<00:00,  1.35it/s]\n"
     ]
    },
    {
     "name": "stdout",
     "output_type": "stream",
     "text": [
      "g8.26e11_2x4x8\n",
      "{260: 'g8.26e11_2x4x8/8.26e11.00260', 650: 'g8.26e11_2x4x8/8.26e11.00650', 720: 'g8.26e11_2x4x8/8.26e11.00720', 310: 'g8.26e11_2x4x8/8.26e11.00310', 80: 'g8.26e11_2x4x8/8.26e11.00080', 990: 'g8.26e11_2x4x8/8.26e11.00990', 1170: 'g8.26e11_2x4x8/8.26e11.01170', 1540: 'g8.26e11_2x4x8/8.26e11.01540', 1860: 'g8.26e11_2x4x8/8.26e11.01860', 1910: 'g8.26e11_2x4x8/8.26e11.01910', 1430: 'g8.26e11_2x4x8/8.26e11.01430', 1000: 'g8.26e11_2x4x8/8.26e11.01000', 1390: 'g8.26e11_2x4x8/8.26e11.01390', 860: 'g8.26e11_2x4x8/8.26e11.00860', 170: 'g8.26e11_2x4x8/8.26e11.00170', 910: 'g8.26e11_2x4x8/8.26e11.00910', 1990: 'g8.26e11_2x4x8/8.26e11.01990', 1080: 'g8.26e11_2x4x8/8.26e11.01080', 1650: 'g8.26e11_2x4x8/8.26e11.01650', 1260: 'g8.26e11_2x4x8/8.26e11.01260', 1310: 'g8.26e11_2x4x8/8.26e11.01310', 1720: 'g8.26e11_2x4x8/8.26e11.01720', 1620: 'g8.26e11_2x4x8/8.26e11.01620', 1210: 'g8.26e11_2x4x8/8.26e11.01210', 1360: 'g8.26e11_2x4x8/8.26e11.01360', 1750: 'g8.26e11_2x4x8/8.26e11.01750', 1180: 'g8.26e11_2x4x8/8.26e11.01180', 1890: 'g8.26e11_2x4x8/8.26e11.01890', 810: 'g8.26e11_2x4x8/8.26e11.00810', 100: 'g8.26e11_2x4x8/8.26e11.00100', 70: 'g8.26e11_2x4x8/8.26e11.00070', 960: 'g8.26e11_2x4x8/8.26e11.00960', 290: 'g8.26e11_2x4x8/8.26e11.00290', 2000: 'g8.26e11_2x4x8/8.26e11.02000', 1290: 'g8.26e11_2x4x8/8.26e11.01290', 1100: 'g8.26e11_2x4x8/8.26e11.01100', 1810: 'g8.26e11_2x4x8/8.26e11.01810', 1530: 'g8.26e11_2x4x8/8.26e11.01530', 1440: 'g8.26e11_2x4x8/8.26e11.01440', 1960: 'g8.26e11_2x4x8/8.26e11.01960', 1070: 'g8.26e11_2x4x8/8.26e11.01070', 890: 'g8.26e11_2x4x8/8.26e11.00890', 180: 'g8.26e11_2x4x8/8.26e11.00180', 210: 'g8.26e11_2x4x8/8.26e11.00210', 620: 'g8.26e11_2x4x8/8.26e11.00620', 750: 'g8.26e11_2x4x8/8.26e11.00750', 550: 'g8.26e11_2x4x8/8.26e11.00550', 870: 'g8.26e11_2x4x8/8.26e11.00870', 160: 'g8.26e11_2x4x8/8.26e11.00160', 10: 'g8.26e11_2x4x8/8.26e11.00010', 900: 'g8.26e11_2x4x8/8.26e11.00900', 1640: 'g8.26e11_2x4x8/8.26e11.01640', 1270: 'g8.26e11_2x4x8/8.26e11.01270', 1300: 'g8.26e11_2x4x8/8.26e11.01300', 1730: 'g8.26e11_2x4x8/8.26e11.01730', 1980: 'g8.26e11_2x4x8/8.26e11.01980', 1090: 'g8.26e11_2x4x8/8.26e11.01090', 90: 'g8.26e11_2x4x8/8.26e11.00090', 980: 'g8.26e11_2x4x8/8.26e11.00980', 270: 'g8.26e11_2x4x8/8.26e11.00270', 640: 'g8.26e11_2x4x8/8.26e11.00640', 730: 'g8.26e11_2x4x8/8.26e11.00730', 300: 'g8.26e11_2x4x8/8.26e11.00300', 1380: 'g8.26e11_2x4x8/8.26e11.01380', 1160: 'g8.26e11_2x4x8/8.26e11.01160', 1870: 'g8.26e11_2x4x8/8.26e11.01870', 1550: 'g8.26e11_2x4x8/8.26e11.01550', 1420: 'g8.26e11_2x4x8/8.26e11.01420', 1900: 'g8.26e11_2x4x8/8.26e11.01900', 1010: 'g8.26e11_2x4x8/8.26e11.01010', 1110: 'g8.26e11_2x4x8/8.26e11.01110', 1520: 'g8.26e11_2x4x8/8.26e11.01520', 1800: 'g8.26e11_2x4x8/8.26e11.01800', 1970: 'g8.26e11_2x4x8/8.26e11.01970', 1450: 'g8.26e11_2x4x8/8.26e11.01450', 1060: 'g8.26e11_2x4x8/8.26e11.01060', 1280: 'g8.26e11_2x4x8/8.26e11.01280', 200: 'g8.26e11_2x4x8/8.26e11.00200', 630: 'g8.26e11_2x4x8/8.26e11.00630', 740: 'g8.26e11_2x4x8/8.26e11.00740', 880: 'g8.26e11_2x4x8/8.26e11.00880', 190: 'g8.26e11_2x4x8/8.26e11.00190', 1190: 'g8.26e11_2x4x8/8.26e11.01190', 1880: 'g8.26e11_2x4x8/8.26e11.01880', 1630: 'g8.26e11_2x4x8/8.26e11.01630', 1200: 'g8.26e11_2x4x8/8.26e11.01200', 1370: 'g8.26e11_2x4x8/8.26e11.01370', 1740: 'g8.26e11_2x4x8/8.26e11.01740', 280: 'g8.26e11_2x4x8/8.26e11.00280', 800: 'g8.26e11_2x4x8/8.26e11.00800', 110: 'g8.26e11_2x4x8/8.26e11.00110', 60: 'g8.26e11_2x4x8/8.26e11.00060', 970: 'g8.26e11_2x4x8/8.26e11.00970', 120: 'g8.26e11_2x4x8/8.26e11.00120', 830: 'g8.26e11_2x4x8/8.26e11.00830', 940: 'g8.26e11_2x4x8/8.26e11.00940', 50: 'g8.26e11_2x4x8/8.26e11.00050', 680: 'g8.26e11_2x4x8/8.26e11.00680', 1230: 'g8.26e11_2x4x8/8.26e11.01230', 1600: 'g8.26e11_2x4x8/8.26e11.01600', 1770: 'g8.26e11_2x4x8/8.26e11.01770', 1340: 'g8.26e11_2x4x8/8.26e11.01340', 1590: 'g8.26e11_2x4x8/8.26e11.01590', 590: 'g8.26e11_2x4x8/8.26e11.00590', 600: 'g8.26e11_2x4x8/8.26e11.00600', 230: 'g8.26e11_2x4x8/8.26e11.00230', 340: 'g8.26e11_2x4x8/8.26e11.00340', 770: 'g8.26e11_2x4x8/8.26e11.00770', 1680: 'g8.26e11_2x4x8/8.26e11.01680', 1510: 'g8.26e11_2x4x8/8.26e11.01510', 1830: 'g8.26e11_2x4x8/8.26e11.01830', 1120: 'g8.26e11_2x4x8/8.26e11.01120', 1050: 'g8.26e11_2x4x8/8.26e11.01050', 1940: 'g8.26e11_2x4x8/8.26e11.01940', 1460: 'g8.26e11_2x4x8/8.26e11.01460', 1840: 'g8.26e11_2x4x8/8.26e11.01840', 1560: 'g8.26e11_2x4x8/8.26e11.01560', 1150: 'g8.26e11_2x4x8/8.26e11.01150', 1020: 'g8.26e11_2x4x8/8.26e11.01020', 1410: 'g8.26e11_2x4x8/8.26e11.01410', 1930: 'g8.26e11_2x4x8/8.26e11.01930', 1780: 'g8.26e11_2x4x8/8.26e11.01780', 670: 'g8.26e11_2x4x8/8.26e11.00670', 240: 'g8.26e11_2x4x8/8.26e11.00240', 330: 'g8.26e11_2x4x8/8.26e11.00330', 700: 'g8.26e11_2x4x8/8.26e11.00700', 1490: 'g8.26e11_2x4x8/8.26e11.01490', 1240: 'g8.26e11_2x4x8/8.26e11.01240', 1670: 'g8.26e11_2x4x8/8.26e11.01670', 1700: 'g8.26e11_2x4x8/8.26e11.01700', 1330: 'g8.26e11_2x4x8/8.26e11.01330', 780: 'g8.26e11_2x4x8/8.26e11.00780', 150: 'g8.26e11_2x4x8/8.26e11.00150', 560: 'g8.26e11_2x4x8/8.26e11.00560', 840: 'g8.26e11_2x4x8/8.26e11.00840', 930: 'g8.26e11_2x4x8/8.26e11.00930', 20: 'g8.26e11_2x4x8/8.26e11.00020', 610: 'g8.26e11_2x4x8/8.26e11.00610', 220: 'g8.26e11_2x4x8/8.26e11.00220', 760: 'g8.26e11_2x4x8/8.26e11.00760', 580: 'g8.26e11_2x4x8/8.26e11.00580', 1820: 'g8.26e11_2x4x8/8.26e11.01820', 1500: 'g8.26e11_2x4x8/8.26e11.01500', 1130: 'g8.26e11_2x4x8/8.26e11.01130', 1040: 'g8.26e11_2x4x8/8.26e11.01040', 1470: 'g8.26e11_2x4x8/8.26e11.01470', 1950: 'g8.26e11_2x4x8/8.26e11.01950', 1690: 'g8.26e11_2x4x8/8.26e11.01690', 690: 'g8.26e11_2x4x8/8.26e11.00690', 130: 'g8.26e11_2x4x8/8.26e11.00130', 820: 'g8.26e11_2x4x8/8.26e11.00820', 950: 'g8.26e11_2x4x8/8.26e11.00950', 40: 'g8.26e11_2x4x8/8.26e11.00040', 1580: 'g8.26e11_2x4x8/8.26e11.01580', 1220: 'g8.26e11_2x4x8/8.26e11.01220', 1610: 'g8.26e11_2x4x8/8.26e11.01610', 1760: 'g8.26e11_2x4x8/8.26e11.01760', 1350: 'g8.26e11_2x4x8/8.26e11.01350', 1250: 'g8.26e11_2x4x8/8.26e11.01250', 1660: 'g8.26e11_2x4x8/8.26e11.01660', 1710: 'g8.26e11_2x4x8/8.26e11.01710', 1320: 'g8.26e11_2x4x8/8.26e11.01320', 1480: 'g8.26e11_2x4x8/8.26e11.01480', 140: 'g8.26e11_2x4x8/8.26e11.00140', 850: 'g8.26e11_2x4x8/8.26e11.00850', 570: 'g8.26e11_2x4x8/8.26e11.00570', 920: 'g8.26e11_2x4x8/8.26e11.00920', 30: 'g8.26e11_2x4x8/8.26e11.00030', 790: 'g8.26e11_2x4x8/8.26e11.00790', 1790: 'g8.26e11_2x4x8/8.26e11.01790', 1570: 'g8.26e11_2x4x8/8.26e11.01570', 1850: 'g8.26e11_2x4x8/8.26e11.01850', 1140: 'g8.26e11_2x4x8/8.26e11.01140', 1030: 'g8.26e11_2x4x8/8.26e11.01030', 1920: 'g8.26e11_2x4x8/8.26e11.01920', 1400: 'g8.26e11_2x4x8/8.26e11.01400', 660: 'g8.26e11_2x4x8/8.26e11.00660', 250: 'g8.26e11_2x4x8/8.26e11.00250', 320: 'g8.26e11_2x4x8/8.26e11.00320', 710: 'g8.26e11_2x4x8/8.26e11.00710'}\n"
     ]
    },
    {
     "name": "stderr",
     "output_type": "stream",
     "text": [
      "100%|██████████| 180/180 [00:29<00:00,  6.06it/s]\n",
      "  7%|▋         | 12/179 [00:00<00:01, 115.27it/s]"
     ]
    },
    {
     "name": "stdout",
     "output_type": "stream",
     "text": [
      "can't read in snaps!\n",
      "can't read in snaps!\n"
     ]
    },
    {
     "name": "stderr",
     "output_type": "stream",
     "text": [
      " 18%|█▊        | 32/179 [00:00<00:03, 38.09it/s] "
     ]
    },
    {
     "name": "stdout",
     "output_type": "stream",
     "text": [
      "can't read in snaps!\n",
      "can't read in snaps!\n"
     ]
    },
    {
     "name": "stderr",
     "output_type": "stream",
     "text": [
      " 69%|██████▉   | 124/179 [00:35<00:37,  1.47it/s]/tmp/ipykernel_3569363/669544192.py:135: RuntimeWarning: divide by zero encountered in double_scalars\n",
      "  barspeeds[j] = (barangle2-barangle1)/(allages_rs[j+1]-allages_rs[j])\n",
      " 71%|███████   | 127/179 [00:37<00:40,  1.27it/s]/tmp/ipykernel_3569363/669544192.py:135: RuntimeWarning: divide by zero encountered in double_scalars\n",
      "  barspeeds[j] = (barangle2-barangle1)/(allages_rs[j+1]-allages_rs[j])\n",
      " 73%|███████▎  | 131/179 [00:39<00:34,  1.39it/s]/tmp/ipykernel_3569363/669544192.py:135: RuntimeWarning: divide by zero encountered in double_scalars\n",
      "  barspeeds[j] = (barangle2-barangle1)/(allages_rs[j+1]-allages_rs[j])\n",
      " 75%|███████▍  | 134/179 [00:41<00:28,  1.57it/s]/tmp/ipykernel_3569363/669544192.py:135: RuntimeWarning: divide by zero encountered in double_scalars\n",
      "  barspeeds[j] = (barangle2-barangle1)/(allages_rs[j+1]-allages_rs[j])\n",
      " 77%|███████▋  | 137/179 [00:44<00:30,  1.39it/s]/tmp/ipykernel_3569363/669544192.py:135: RuntimeWarning: divide by zero encountered in double_scalars\n",
      "  barspeeds[j] = (barangle2-barangle1)/(allages_rs[j+1]-allages_rs[j])\n",
      " 79%|███████▉  | 141/179 [00:47<00:29,  1.31it/s]/tmp/ipykernel_3569363/669544192.py:135: RuntimeWarning: divide by zero encountered in double_scalars\n",
      "  barspeeds[j] = (barangle2-barangle1)/(allages_rs[j+1]-allages_rs[j])\n",
      " 80%|████████  | 144/179 [00:49<00:29,  1.18it/s]/tmp/ipykernel_3569363/669544192.py:135: RuntimeWarning: divide by zero encountered in double_scalars\n",
      "  barspeeds[j] = (barangle2-barangle1)/(allages_rs[j+1]-allages_rs[j])\n",
      " 83%|████████▎ | 148/179 [00:52<00:22,  1.37it/s]/tmp/ipykernel_3569363/669544192.py:135: RuntimeWarning: divide by zero encountered in double_scalars\n",
      "  barspeeds[j] = (barangle2-barangle1)/(allages_rs[j+1]-allages_rs[j])\n",
      " 84%|████████▍ | 151/179 [00:54<00:20,  1.36it/s]/tmp/ipykernel_3569363/669544192.py:135: RuntimeWarning: divide by zero encountered in double_scalars\n",
      "  barspeeds[j] = (barangle2-barangle1)/(allages_rs[j+1]-allages_rs[j])\n",
      " 86%|████████▌ | 154/179 [00:56<00:16,  1.49it/s]/tmp/ipykernel_3569363/669544192.py:135: RuntimeWarning: divide by zero encountered in double_scalars\n",
      "  barspeeds[j] = (barangle2-barangle1)/(allages_rs[j+1]-allages_rs[j])\n",
      " 88%|████████▊ | 158/179 [00:58<00:13,  1.57it/s]/tmp/ipykernel_3569363/669544192.py:135: RuntimeWarning: divide by zero encountered in double_scalars\n",
      "  barspeeds[j] = (barangle2-barangle1)/(allages_rs[j+1]-allages_rs[j])\n",
      " 90%|████████▉ | 161/179 [01:01<00:13,  1.29it/s]/tmp/ipykernel_3569363/669544192.py:135: RuntimeWarning: divide by zero encountered in double_scalars\n",
      "  barspeeds[j] = (barangle2-barangle1)/(allages_rs[j+1]-allages_rs[j])\n",
      " 92%|█████████▏| 165/179 [01:04<00:09,  1.53it/s]/tmp/ipykernel_3569363/669544192.py:135: RuntimeWarning: divide by zero encountered in double_scalars\n",
      "  barspeeds[j] = (barangle2-barangle1)/(allages_rs[j+1]-allages_rs[j])\n",
      " 94%|█████████▍| 168/179 [01:05<00:06,  1.81it/s]/tmp/ipykernel_3569363/669544192.py:135: RuntimeWarning: divide by zero encountered in double_scalars\n",
      "  barspeeds[j] = (barangle2-barangle1)/(allages_rs[j+1]-allages_rs[j])\n",
      " 96%|█████████▌| 171/179 [01:07<00:05,  1.49it/s]/tmp/ipykernel_3569363/669544192.py:135: RuntimeWarning: divide by zero encountered in double_scalars\n",
      "  barspeeds[j] = (barangle2-barangle1)/(allages_rs[j+1]-allages_rs[j])\n",
      " 98%|█████████▊| 175/179 [01:10<00:02,  1.40it/s]/tmp/ipykernel_3569363/669544192.py:135: RuntimeWarning: divide by zero encountered in double_scalars\n",
      "  barspeeds[j] = (barangle2-barangle1)/(allages_rs[j+1]-allages_rs[j])\n",
      " 99%|█████████▉| 178/179 [01:12<00:00,  1.77it/s]/tmp/ipykernel_3569363/669544192.py:135: RuntimeWarning: divide by zero encountered in double_scalars\n",
      "  barspeeds[j] = (barangle2-barangle1)/(allages_rs[j+1]-allages_rs[j])\n",
      "100%|██████████| 179/179 [01:12<00:00,  2.45it/s]\n"
     ]
    },
    {
     "name": "stdout",
     "output_type": "stream",
     "text": [
      "g7.08e11_5x10\n"
     ]
    },
    {
     "name": "stderr",
     "output_type": "stream",
     "text": [
      "  1%|          | 1/160 [00:00<01:20,  1.97it/s]"
     ]
    },
    {
     "name": "stdout",
     "output_type": "stream",
     "text": [
      "no halo!\n"
     ]
    },
    {
     "name": "stderr",
     "output_type": "stream",
     "text": [
      "  6%|▌         | 9/160 [08:49<3:22:25, 80.43s/it]"
     ]
    }
   ],
   "source": [
    "\n",
    "for i in range(1,len(sims)):\n",
    "    if sims[i]=='g1.12e12_3x9':\n",
    "        continue\n",
    "    else:\n",
    "        print('Generate ')\n",
    "        generatepkl(sims[i])\n",
    "        cosmictime, patternspeed, amps = calc_bar_speed(sims[i], rbar=3.5, drbar=0.5)\n"
   ]
  },
  {
   "cell_type": "code",
   "execution_count": 17,
   "id": "3cd1ff56",
   "metadata": {},
   "outputs": [
    {
     "ename": "NameError",
     "evalue": "name 'cosmictime' is not defined",
     "output_type": "error",
     "traceback": [
      "\u001b[0;31m---------------------------------------------------------------------------\u001b[0m",
      "\u001b[0;31mNameError\u001b[0m                                 Traceback (most recent call last)",
      "\u001b[0;32m/tmp/ipykernel_3569363/1386567726.py\u001b[0m in \u001b[0;36m<module>\u001b[0;34m\u001b[0m\n\u001b[0;32m----> 1\u001b[0;31m \u001b[0mplt\u001b[0m\u001b[0;34m.\u001b[0m\u001b[0mplot\u001b[0m\u001b[0;34m(\u001b[0m\u001b[0mcosmictime\u001b[0m\u001b[0;34m,\u001b[0m \u001b[0mpatternspeed\u001b[0m\u001b[0;34m)\u001b[0m\u001b[0;34m\u001b[0m\u001b[0;34m\u001b[0m\u001b[0m\n\u001b[0m",
      "\u001b[0;31mNameError\u001b[0m: name 'cosmictime' is not defined"
     ]
    }
   ],
   "source": [
    "plt.plot(cosmictime, patternspeed)"
   ]
  },
  {
   "cell_type": "code",
   "execution_count": null,
   "id": "e8bc4731",
   "metadata": {},
   "outputs": [],
   "source": [
    "calc_bar_speed(sims[i], rbar=3.5, drbar=0.5)"
   ]
  },
  {
   "cell_type": "code",
   "execution_count": 150,
   "id": "5ab91c19",
   "metadata": {},
   "outputs": [
    {
     "data": {
      "text/html": [
       "<div>\n",
       "<style scoped>\n",
       "    .dataframe tbody tr th:only-of-type {\n",
       "        vertical-align: middle;\n",
       "    }\n",
       "\n",
       "    .dataframe tbody tr th {\n",
       "        vertical-align: top;\n",
       "    }\n",
       "\n",
       "    .dataframe thead th {\n",
       "        text-align: right;\n",
       "    }\n",
       "</style>\n",
       "<table border=\"1\" class=\"dataframe\">\n",
       "  <thead>\n",
       "    <tr style=\"text-align: right;\">\n",
       "      <th></th>\n",
       "      <th>iord</th>\n",
       "      <th>r</th>\n",
       "      <th>z</th>\n",
       "      <th>x</th>\n",
       "      <th>y</th>\n",
       "    </tr>\n",
       "  </thead>\n",
       "  <tbody>\n",
       "    <tr>\n",
       "      <th>0</th>\n",
       "      <td>59330548</td>\n",
       "      <td>0.198781</td>\n",
       "      <td>0.181828</td>\n",
       "      <td>0.076785</td>\n",
       "      <td>0.023594</td>\n",
       "    </tr>\n",
       "    <tr>\n",
       "      <th>1</th>\n",
       "      <td>59330549</td>\n",
       "      <td>0.148252</td>\n",
       "      <td>0.133612</td>\n",
       "      <td>0.042697</td>\n",
       "      <td>0.047997</td>\n",
       "    </tr>\n",
       "    <tr>\n",
       "      <th>2</th>\n",
       "      <td>59330550</td>\n",
       "      <td>0.177428</td>\n",
       "      <td>0.171368</td>\n",
       "      <td>0.012882</td>\n",
       "      <td>0.044135</td>\n",
       "    </tr>\n",
       "    <tr>\n",
       "      <th>3</th>\n",
       "      <td>59330551</td>\n",
       "      <td>0.047608</td>\n",
       "      <td>0.016560</td>\n",
       "      <td>-0.018496</td>\n",
       "      <td>-0.040622</td>\n",
       "    </tr>\n",
       "  </tbody>\n",
       "</table>\n",
       "</div>"
      ],
      "text/plain": [
       "       iord         r         z         x         y\n",
       "0  59330548  0.198781  0.181828  0.076785  0.023594\n",
       "1  59330549  0.148252  0.133612  0.042697  0.047997\n",
       "2  59330550  0.177428  0.171368  0.012882  0.044135\n",
       "3  59330551  0.047608  0.016560 -0.018496 -0.040622"
      ]
     },
     "execution_count": 150,
     "metadata": {},
     "output_type": "execute_result"
    }
   ],
   "source": [
    "pd.DataFrame({k:out[k] for k in cols})"
   ]
  },
  {
   "cell_type": "code",
   "execution_count": null,
   "id": "d5ca60fa",
   "metadata": {},
   "outputs": [],
   "source": []
  }
 ],
 "metadata": {
  "kernelspec": {
   "display_name": "Python 3 (ipykernel)",
   "language": "python",
   "name": "python3"
  },
  "language_info": {
   "codemirror_mode": {
    "name": "ipython",
    "version": 3
   },
   "file_extension": ".py",
   "mimetype": "text/x-python",
   "name": "python",
   "nbconvert_exporter": "python",
   "pygments_lexer": "ipython3",
   "version": "3.8.8"
  }
 },
 "nbformat": 4,
 "nbformat_minor": 5
}
