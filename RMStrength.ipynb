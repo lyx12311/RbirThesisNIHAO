{
 "cells": [
  {
   "cell_type": "code",
   "execution_count": 1,
   "id": "d05000ad",
   "metadata": {},
   "outputs": [],
   "source": [
    "from HeaderP import *\n",
    "import pynbody as pb\n",
    "import pynbody.filt as filt\n",
    "import os, pickle, glob\n"
   ]
  },
  {
   "cell_type": "code",
   "execution_count": 2,
   "id": "94375ae5",
   "metadata": {},
   "outputs": [
    {
     "data": {
      "text/plain": [
       "'1.3.4'"
      ]
     },
     "execution_count": 2,
     "metadata": {},
     "output_type": "execute_result"
    }
   ],
   "source": [
    "pd.__version__"
   ]
  },
  {
   "cell_type": "code",
   "execution_count": 3,
   "id": "840a0997",
   "metadata": {},
   "outputs": [],
   "source": [
    "def readsimdata(simNo,Rcut,Rcut_thread,zcut_thread,disk=True):\n",
    "    if disk:\n",
    "        data=pd.read_pickle('./g'+simNo+'_z_0_decomp.pkl')\n",
    "    else:\n",
    "        data=pd.read_pickle('./g'+simNo+'_z_0.pkl')\n",
    "    data['R']=np.sqrt((data['x'])**2+data['y']**2)\n",
    "    \n",
    "    if Rcut:\n",
    "        data=data.loc[data['Rbir']<Rcut_thread].reset_index(drop=True)\n",
    "        data=data.loc[abs(data['zbir'])<zcut_thread].reset_index(drop=True)\n",
    "    data['dR']=data['R']-data['Rbir']\n",
    "    data['dz']=abs(data['z'])-abs(data['zbir'])\n",
    "    if disk:\n",
    "        data = data.loc[(data['decomp']==1)|(data['decomp']==4)].reset_index()\n",
    "    return data\n",
    "\n",
    "\n",
    "import matplotlib\n",
    "from scipy import interpolate\n",
    "from scipy.interpolate import interp1d\n",
    "def getcolor(vrange,cm=plt.cm.get_cmap('viridis')):\n",
    "    cmap = cm\n",
    "    norm = matplotlib.colors.Normalize(vmin=min(vrange[:-1]), vmax=max(vrange[:-1]))\n",
    "    return [cmap(norm(i)) for i in vrange]"
   ]
  },
  {
   "cell_type": "code",
   "execution_count": 4,
   "id": "b490927a",
   "metadata": {},
   "outputs": [],
   "source": [
    "import os \n",
    "sims = os.listdir('./')\n",
    "sims = [i for i in sims if 'x' in i]\n",
    "sims = [i for i in sims if '.txt' not in i]\n",
    "sims = [i for i in sims if '.pkl' not in i]\n",
    "simsnames = [i.split('_')[0][1:] for i in sims]\n"
   ]
  },
  {
   "cell_type": "code",
   "execution_count": null,
   "id": "fd645cbb",
   "metadata": {
    "scrolled": true
   },
   "outputs": [
    {
     "name": "stdout",
     "output_type": "stream",
     "text": [
      "g6.96e11_3x9\n"
     ]
    },
    {
     "name": "stderr",
     "output_type": "stream",
     "text": [
      "100%|██████████| 128/128 [00:31<00:00,  4.04it/s]\n",
      "  1%|          | 1/128 [00:00<00:40,  3.13it/s]"
     ]
    },
    {
     "name": "stdout",
     "output_type": "stream",
     "text": [
      "no halo!\n",
      "no stars in this snap!\n",
      "no stars in this snap!\n"
     ]
    },
    {
     "name": "stderr",
     "output_type": "stream",
     "text": [
      " 14%|█▍        | 18/128 [00:06<00:44,  2.47it/s]"
     ]
    },
    {
     "name": "stdout",
     "output_type": "stream",
     "text": [
      "no stars in this snap!\n",
      "no stars in this snap!\n"
     ]
    },
    {
     "name": "stderr",
     "output_type": "stream",
     "text": [
      "100%|██████████| 128/128 [01:37<00:00,  1.31it/s]\n"
     ]
    },
    {
     "name": "stdout",
     "output_type": "stream",
     "text": [
      "g8.26e11_2x4x8\n"
     ]
    },
    {
     "name": "stderr",
     "output_type": "stream",
     "text": [
      "100%|██████████| 180/180 [00:26<00:00,  6.73it/s]\n",
      "  1%|          | 1/180 [00:00<00:49,  3.65it/s]"
     ]
    },
    {
     "name": "stdout",
     "output_type": "stream",
     "text": [
      "no halo!\n"
     ]
    },
    {
     "name": "stderr",
     "output_type": "stream",
     "text": [
      "\r",
      "  1%|          | 2/180 [00:41<1:11:54, 24.24s/it]"
     ]
    },
    {
     "name": "stdout",
     "output_type": "stream",
     "text": [
      "no stars!\n",
      "no stars in this snap!\n"
     ]
    },
    {
     "name": "stderr",
     "output_type": "stream",
     "text": [
      " 19%|█▉        | 34/180 [02:03<51:58, 21.36s/it] "
     ]
    },
    {
     "name": "stdout",
     "output_type": "stream",
     "text": [
      "no IDs!\n"
     ]
    },
    {
     "name": "stderr",
     "output_type": "stream",
     "text": [
      " 48%|████▊     | 87/180 [03:18<02:45,  1.78s/it]"
     ]
    }
   ],
   "source": [
    "from os.path import exists\n",
    "\n",
    "cols = ['iord','r','z','x','y']\n",
    "cmap = plt.cm.get_cmap('plasma',20)\n",
    "\n",
    "Rbirth_switch = True\n",
    "\n",
    "for i in range(len(sims)):\n",
    "    if sims[i]=='g1.12e12_3x9':\n",
    "        continue\n",
    "    print(sims[i])\n",
    "    simname = sims[i]\n",
    "    \n",
    "    allsnaps = glob.glob(sims[i]+'/*.?????')\n",
    "    \n",
    "    agepickle = readsimdata(simsnames[i],True, 15, 5)\n",
    "    \n",
    "    allsnaps_time = [int(i.split('.')[-1]) for i in allsnaps if (('param' not in i) and ('draco' not in i) and ('dat_' not in i) and ('79e12' not in i.split('.')[-1]))]\n",
    "    snaplookup = {int(allsnaps[i].split('.')[-1]):allsnaps[i] for i in range(len(allsnaps)) if (('param' not in allsnaps[i]) and ('draco' not in allsnaps[i]) and ('dat_' not in allsnaps[i]) and ('79e12' not in allsnaps[i].split('.')[-1]))}\n",
    "\n",
    "    sortage = sorted(allsnaps_time)\n",
    "    redshifts = np.zeros(len(sortage))\n",
    "    allages_rs = np.zeros(len(redshifts))\n",
    "    for j in trange(len(sortage)):\n",
    "        s = pb.load(snaplookup[sortage[j]])\n",
    "        h = s.properties['h']\n",
    "        ages = float(str(s.properties['time']).split(' ')[0])\n",
    "        allages_rs[j] = ages\n",
    "    count = 0\n",
    "            \n",
    "    for j in trange(len(allages_rs)):\n",
    "        #print('reading ',snaplookup[sortage[j]])\n",
    "        if exists(snaplookup[sortage[j]]+'.pkl'):\n",
    "            this_snap = pd.read_pickle(snaplookup[sortage[j]]+'.pkl')\n",
    "            if len(this_snap)==0:\n",
    "                print('no stars in this snap!')\n",
    "                continue\n",
    "        else:\n",
    "            s = pb.load(snaplookup[sortage[j]])\n",
    "            h=s.halos()\n",
    "            try:\n",
    "                pb.analysis.angmom.faceon(h[1])\n",
    "            except:\n",
    "                print('no halo!')\n",
    "                continue\n",
    "            s.physical_units()\n",
    "            sim = h[1]\n",
    "\n",
    "            stars = sim.s\n",
    "            if len(stars)==0:\n",
    "                print('no stars!')\n",
    "                continue\n",
    "            \n",
    "            try:\n",
    "                stars['iord']\n",
    "            except:\n",
    "                print('no IDs!')\n",
    "                continue\n",
    "            this_snap = pd.DataFrame({k:stars[k] for k in cols})\n",
    "            this_snap = pd.merge(this_snap, agepickle[['iord', 'age', 'feh', 'Rbir','zbir']], left_on='iord', right_on='iord', how='inner')\n",
    "            this_snap.to_pickle(snaplookup[sortage[j]]+'.pkl')\n",
    "        \n",
    "        plt.figure(figsize=(10,8))\n",
    "        plt.title(simsnames[i]+'; Cosmic Time = %.3f'%(allages_rs[j])+' Gyr', fontsize=25)\n",
    "        if Rbirth_switch:\n",
    "            plt.hexbin(this_snap['age'], this_snap['Rbir'], C = this_snap['r']-this_snap['Rbir'],\n",
    "                   extent = (0,14,0,15), gridsize=40, vmin=0, vmax=4, cmap=cmap, reduce_C_function = np.std, mincnt = 20)\n",
    "        else:\n",
    "            plt.hexbin(this_snap['age'], this_snap['r'], C = this_snap['r']-this_snap['Rbir'],\n",
    "                   extent = (0,14,0,15), gridsize=40, vmin=0, vmax=4, cmap=cmap, reduce_C_function = np.std, mincnt = 20)\n",
    "        plt.xlabel('Age [Gyr]')\n",
    "        if Rbirth_switch:\n",
    "            plt.ylabel('$R_{bir}$')\n",
    "        else:\n",
    "            plt.ylabel('Current Radius')\n",
    "        cb = plt.colorbar()\n",
    "        cb.set_label('$σ_{R-R_{bir}}$ [kpc]')\n",
    "        plt.tight_layout()\n",
    "        if Rbirth_switch:\n",
    "            plt.savefig('RM/'+simsnames[i]+'/'+str(count)+'_Rbir.png')\n",
    "        else:\n",
    "            plt.savefig('RM/'+simsnames[i]+'/'+str(count)+'.png')\n",
    "        count = count+1\n",
    "        plt.close()"
   ]
  },
  {
   "cell_type": "code",
   "execution_count": null,
   "id": "d5a4fc09",
   "metadata": {},
   "outputs": [],
   "source": [
    "from os.path import exists\n",
    "\n",
    "cols = ['iord','r','z']\n",
    "cmap = plt.cm.get_cmap('plasma',20)\n",
    "\n",
    "for i in range(len(sims)):\n",
    "    if sims[i]=='g1.12e12_3x9':\n",
    "        continue\n",
    "    print(sims[i])\n",
    "    simname = sims[i]\n",
    "    \n",
    "    allsnaps = glob.glob(sims[i]+'/*.?????')\n",
    "    \n",
    "    agepickle = readsimdata(simsnames[i],True, 15, 5)\n",
    "    \n",
    "    allsnaps_time = [int(i.split('.')[-1]) for i in allsnaps if (('param' not in i) and ('draco' not in i) and ('dat_' not in i) and ('79e12' not in i.split('.')[-1]))]\n",
    "    snaplookup = {int(allsnaps[i].split('.')[-1]):allsnaps[i] for i in range(len(allsnaps)) if (('param' not in allsnaps[i]) and ('draco' not in allsnaps[i]) and ('dat_' not in allsnaps[i]) and ('79e12' not in allsnaps[i].split('.')[-1]))}\n",
    "\n",
    "    sortage = sorted(allsnaps_time)\n",
    "    redshifts = np.zeros(len(sortage))\n",
    "    allages_rs = np.zeros(len(redshifts))\n",
    "    for j in trange(len(sortage)):\n",
    "        s = pb.load(snaplookup[sortage[j]])\n",
    "        h = s.properties['h']\n",
    "        ages = float(str(s.properties['time']).split(' ')[0])\n",
    "        allages_rs[j] = ages\n",
    "    count = 0\n",
    "            \n",
    "    for j in trange(len(allages_rs)-1):\n",
    "        print('reading ',snaplookup[sortage[j]])\n",
    "        if exists(snaplookup[sortage[j]]+'.pkl'):\n",
    "            this_snap = pd.read_pickle(snaplookup[sortage[j]]+'.pkl')\n",
    "        else:\n",
    "            s = pb.load(snaplookup[sortage[j]])\n",
    "            h=s.halos()\n",
    "            try:\n",
    "                pb.analysis.angmom.faceon(h[1])\n",
    "            except:\n",
    "                print('no halo!')\n",
    "                continue\n",
    "            s.physical_units()\n",
    "            sim = h[1]\n",
    "\n",
    "            stars = sim.s\n",
    "            if len(stars)==0:\n",
    "                print('no stars!')\n",
    "                continue\n",
    "            \n",
    "            try:\n",
    "                stars['iord']\n",
    "            except:\n",
    "                print('no IDs!')\n",
    "                continue\n",
    "            this_snap = pd.DataFrame({k:stars[k] for k in cols})\n",
    "            this_snap = pd.merge(this_snap, agepickle[['iord', 'age', 'feh', 'Rbir','zbir']], left_on='iord', right_on='iord', how='inner')\n",
    "            this_snap.to_pickle(snaplookup[sortage[j]]+'.pkl')\n",
    "            \n",
    "        if exists(snaplookup[sortage[j+1]]+'.pkl'):\n",
    "            next_snap = pd.read_pickle(snaplookup[sortage[j+1]]+'.pkl')\n",
    "        else:\n",
    "            s = pb.load(snaplookup[sortage[j+1]])\n",
    "            h=s.halos()\n",
    "            try:\n",
    "                pb.analysis.angmom.faceon(h[1])\n",
    "            except:\n",
    "                print('no halo!')\n",
    "                continue\n",
    "            s.physical_units()\n",
    "            sim = h[1]\n",
    "\n",
    "            stars = sim.s\n",
    "            if len(stars)==0:\n",
    "                print('no stars!')\n",
    "                continue\n",
    "            \n",
    "            try:\n",
    "                stars['iord']\n",
    "            except:\n",
    "                print('no IDs!')\n",
    "                continue\n",
    "            next_snap = pd.DataFrame({k:stars[k] for k in cols})\n",
    "            next_snap = pd.merge(next_snap, agepickle[['iord', 'age', 'feh', 'Rbir','zbir']], left_on='iord', right_on='iord', how='inner')\n",
    "            next_snap.to_pickle(snaplookup[sortage[j+1]]+'.pkl')\n",
    "        \n",
    "        plt.figure(figsize=(10,8))\n",
    "        plt.title(simsnames[i]+'; Cosmic Time = %.3f'%(allages_rs[j+1])+' Gyr', fontsize=25)\n",
    "        \n",
    "        timediff = allages_rs[j+1]-allages_rs[j]\n",
    "        \n",
    "        output = plt.hexbin(this_snap['age'], this_snap['Rbir'], C = this_snap['r']-this_snap['Rbir'],\n",
    "               extent = (0,14,0,15), gridsize=40, reduce_C_function = np.std, mincnt = 20)\n",
    "        output_2 = plt.hexbin(next_snap['age'], next_snap['Rbir'], C = next_snap['r']-next_snap['Rbir'],\n",
    "               extent = (0,14,0,15), gridsize=40, reduce_C_function = np.std, mincnt = 20)\n",
    "        diffout = (output_2.get_array - output.get_array)/timediff\n",
    "        plt.imshow(diffout.T, interpolation=\"nearest\" ,aspect = 'auto',origin = 'lower', \n",
    "               extent = (0,14,0,15),cmap=cmap)\n",
    "        plt.xlabel('Age [Gyr]')\n",
    "        plt.ylabel('$R_{bir}$')\n",
    "        \n",
    "        cb = plt.colorbar()\n",
    "        cb.set_label('diff($σ_{R-R_{bir}}$)/diff(\\tau) [kpc/Gyr]')\n",
    "        \n",
    "        plt.tight_layout()\n",
    "        plt.savefig('RM/'+simsnames[i]+'/'+str(count)+'_Rbir_diff.png')\n",
    "        count = count+1\n",
    "        plt.close()"
   ]
  },
  {
   "cell_type": "code",
   "execution_count": null,
   "id": "8a4d5f46",
   "metadata": {},
   "outputs": [],
   "source": [
    "\n",
    "i=1\n",
    "print(sims[i])\n",
    "simname = sims[i]\n",
    "\n",
    "allsnaps = glob.glob(sims[i]+'/*.?????')\n",
    "\n",
    "agepickle = readsimdata(simsnames[i],True, 15, 5)\n",
    "\n",
    "allsnaps_time = [int(i.split('.')[-1]) for i in allsnaps if (('param' not in i) and ('draco' not in i) and ('dat_' not in i) and ('79e12' not in i.split('.')[-1]))]\n",
    "snaplookup = {int(allsnaps[i].split('.')[-1]):allsnaps[i] for i in range(len(allsnaps)) if (('param' not in allsnaps[i]) and ('draco' not in allsnaps[i]) and ('dat_' not in allsnaps[i]) and ('79e12' not in allsnaps[i].split('.')[-1]))}\n",
    "\n",
    "sortage = sorted(allsnaps_time)\n",
    "redshifts = np.zeros(len(sortage))\n",
    "allages_rs = np.zeros(len(redshifts))\n",
    "for j in trange(len(sortage)):\n",
    "s = pb.load(snaplookup[sortage[j]])\n",
    "h = s.properties['h']\n",
    "ages = float(str(s.properties['time']).split(' ')[0])\n",
    "allages_rs[j] = ages\n",
    "count = 0\n",
    "\n",
    "j=50\n",
    "print('reading ',snaplookup[sortage[j]])\n",
    "if exists(snaplookup[sortage[j]]+'.pkl'):\n",
    "    this_snap = pd.read_pickle(snaplookup[sortage[j]]+'.pkl')\n",
    "else:\n",
    "    s = pb.load(snaplookup[sortage[j]])\n",
    "    h=s.halos()\n",
    "    try:\n",
    "        pb.analysis.angmom.faceon(h[1])\n",
    "    except:\n",
    "        print('no halo!')\n",
    "        continue\n",
    "    s.physical_units()\n",
    "    sim = h[1]\n",
    "\n",
    "    stars = sim.s\n",
    "    if len(stars)==0:\n",
    "        print('no stars!')\n",
    "        continue\n",
    "\n",
    "    try:\n",
    "        stars['iord']\n",
    "    except:\n",
    "        print('no IDs!')\n",
    "        continue\n",
    "    this_snap = pd.DataFrame({k:stars[k] for k in cols})\n",
    "    this_snap = pd.merge(this_snap, agepickle[['iord', 'age', 'feh', 'Rbir','zbir']], left_on='iord', right_on='iord', how='inner')\n",
    "    this_snap.to_pickle(snaplookup[sortage[j]]+'.pkl')\n",
    "\n",
    "if exists(snaplookup[sortage[j+1]]+'.pkl'):\n",
    "    next_snap = pd.read_pickle(snaplookup[sortage[j+1]]+'.pkl')\n",
    "else:\n",
    "    s = pb.load(snaplookup[sortage[j+1]])\n",
    "    h=s.halos()\n",
    "    try:\n",
    "        pb.analysis.angmom.faceon(h[1])\n",
    "    except:\n",
    "        print('no halo!')\n",
    "        continue\n",
    "    s.physical_units()\n",
    "    sim = h[1]\n",
    "\n",
    "    stars = sim.s\n",
    "    if len(stars)==0:\n",
    "        print('no stars!')\n",
    "        continue\n",
    "\n",
    "    try:\n",
    "        stars['iord']\n",
    "    except:\n",
    "        print('no IDs!')\n",
    "        continue\n",
    "    next_snap = pd.DataFrame({k:stars[k] for k in cols})\n",
    "    next_snap = pd.merge(next_snap, agepickle[['iord', 'age', 'feh', 'Rbir','zbir']], left_on='iord', right_on='iord', how='inner')\n",
    "    next_snap.to_pickle(snaplookup[sortage[j+1]]+'.pkl')\n",
    "\n",
    "plt.figure(figsize=(10,8))\n",
    "plt.title(simsnames[i]+'; Cosmic Time = %.3f'%(allages_rs[j+1])+' Gyr', fontsize=25)\n",
    "\n",
    "timediff = allages_rs[j+1]-allages_rs[j]\n",
    "\n",
    "output = plt.hexbin(this_snap['age'], this_snap['Rbir'], C = this_snap['r']-this_snap['Rbir'],\n",
    "       extent = (0,14,0,15), gridsize=40, reduce_C_function = np.std, mincnt = 20)\n",
    "output_2 = plt.hexbin(next_snap['age'], next_snap['Rbir'], C = next_snap['r']-next_snap['Rbir'],\n",
    "       extent = (0,14,0,15), gridsize=40, reduce_C_function = np.std, mincnt = 20)\n",
    "diffout = (output_2.get_array - output.get_array)/timediff\n",
    "plt.imshow(output.T, interpolation=\"nearest\" ,aspect = 'auto',origin = 'lower', \n",
    "       extent = (0,14,0,15),cmap=cmap)\n",
    "plt.xlabel('Age [Gyr]')\n",
    "plt.ylabel('$R_{bir}$') \n",
    "\n",
    "cb = plt.colorbar()\n",
    "cb.set_label('diff($σ_{R-R_{bir}}$)/diff(\\tau) [kpc/Gyr]')\n",
    "\n",
    "plt.tight_layout()\n",
    "#plt.savefig('RM/'+simsnames[i]+'/'+str(count)+'_Rbir_diff.png')\n",
    "count = count+1\n",
    "#plt.close()\n"
   ]
  },
  {
   "cell_type": "code",
   "execution_count": null,
   "id": "8be13746",
   "metadata": {},
   "outputs": [],
   "source": []
  }
 ],
 "metadata": {
  "kernelspec": {
   "display_name": "Python 3 (ipykernel)",
   "language": "python",
   "name": "python3"
  },
  "language_info": {
   "codemirror_mode": {
    "name": "ipython",
    "version": 3
   },
   "file_extension": ".py",
   "mimetype": "text/x-python",
   "name": "python",
   "nbconvert_exporter": "python",
   "pygments_lexer": "ipython3",
   "version": "3.8.8"
  }
 },
 "nbformat": 4,
 "nbformat_minor": 5
}
